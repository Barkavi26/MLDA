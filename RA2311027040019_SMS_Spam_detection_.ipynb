{
  "nbformat": 4,
  "nbformat_minor": 0,
  "metadata": {
    "colab": {
      "provenance": []
    },
    "kernelspec": {
      "name": "python3",
      "display_name": "Python 3"
    },
    "language_info": {
      "name": "python"
    }
  },
  "cells": [
    {
      "cell_type": "code",
      "source": [
        "# T1: Data Pre-processing for spam dataset\n",
        "\n",
        "import pandas as pd\n",
        "from sklearn.model_selection import train_test_split\n",
        "from sklearn.preprocessing import LabelEncoder\n",
        "from sklearn.feature_extraction.text import TfidfVectorizer\n",
        "\n",
        "# 1. Load the dataset\n",
        "data = pd.read_csv(\"spam.csv\", encoding=\"latin1\")\n",
        "\n",
        "# Keep only required columns\n",
        "data = data[[\"v1\", \"v2\"]]\n",
        "data = data.rename(columns={\"v1\": \"label\", \"v2\": \"message\"})\n",
        "\n",
        "# Display first few rows\n",
        "print(\"Raw Data:\\n\", data.head())\n",
        "\n",
        "# 2. Data Cleaning\n",
        "# Handle missing values (if any)\n",
        "data = data.dropna()\n",
        "\n",
        "# Convert labels (spam/ham) into numerical (0/1)\n",
        "label_encoder = LabelEncoder()\n",
        "data[\"label_encoded\"] = label_encoder.fit_transform(data[\"label\"])\n",
        "\n",
        "# 3. Feature Engineering\n",
        "# Convert text messages into TF-IDF features\n",
        "vectorizer = TfidfVectorizer(stop_words=\"english\", max_features=3000)\n",
        "X = vectorizer.fit_transform(data[\"message\"])\n",
        "y = data[\"label_encoded\"]\n",
        "\n",
        "# 4. Data Splitting\n",
        "X_train, X_test, y_train, y_test = train_test_split(\n",
        "    X, y, test_size=0.2, random_state=42, stratify=y\n",
        ")\n",
        "\n",
        "# Display shapes of training data\n",
        "print(\"Training features shape:\", X_train.shape)\n",
        "print(\"Training labels shape:\", y_train.shape)\n",
        "print(\"First 5 labels:\", y_train[:5])\n",
        "\n"
      ],
      "metadata": {
        "colab": {
          "base_uri": "https://localhost:8080/"
        },
        "id": "ZYG-xfLq61gQ",
        "outputId": "5d1e9e7c-2b37-439d-cdb0-753001f3609d"
      },
      "execution_count": 1,
      "outputs": [
        {
          "output_type": "stream",
          "name": "stdout",
          "text": [
            "Raw Data:\n",
            "   label                                            message\n",
            "0   ham  Go until jurong point, crazy.. Available only ...\n",
            "1   ham                      Ok lar... Joking wif u oni...\n",
            "2  spam  Free entry in 2 a wkly comp to win FA Cup fina...\n",
            "3   ham  U dun say so early hor... U c already then say...\n",
            "4   ham  Nah I don't think he goes to usf, he lives aro...\n",
            "Training features shape: (4457, 3000)\n",
            "Training labels shape: (4457,)\n",
            "First 5 labels: 184     0\n",
            "2171    0\n",
            "5422    0\n",
            "4113    0\n",
            "4588    0\n",
            "Name: label_encoded, dtype: int64\n"
          ]
        }
      ]
    },
    {
      "cell_type": "code",
      "source": [
        "# T2: Simple Linear Regression on spam dataset\n",
        "import pandas as pd\n",
        "import matplotlib.pyplot as plt\n",
        "from sklearn.model_selection import train_test_split\n",
        "from sklearn.linear_model import LinearRegression\n",
        "\n",
        "# Load dataset\n",
        "data = pd.read_csv(\"spam.csv\", encoding=\"latin1\")\n",
        "data = data[[\"v1\", \"v2\"]]\n",
        "data = data.rename(columns={\"v1\": \"label\", \"v2\": \"message\"})\n",
        "\n",
        "# Create a numeric feature: message length\n",
        "data[\"message_length\"] = data[\"message\"].apply(len)\n",
        "\n",
        "# Convert label to numeric (ham=0, spam=1)\n",
        "data[\"label_encoded\"] = data[\"label\"].map({\"ham\": 0, \"spam\": 1})\n",
        "\n",
        "# Independent variable (X) and dependent variable (y)\n",
        "X = data[[\"message_length\"]]   # predictor\n",
        "y = data[\"label_encoded\"]      # target\n",
        "\n",
        "# Train-test split (80% train, 20% test)\n",
        "X_train, X_test, y_train, y_test = train_test_split(\n",
        "    X, y, test_size=0.2, random_state=42\n",
        ")\n",
        "\n",
        "# Build and train model\n",
        "model = LinearRegression()\n",
        "model.fit(X_train, y_train)\n",
        "\n",
        "# Predictions\n",
        "y_pred = model.predict(X_test)\n",
        "\n",
        "# Print coefficients\n",
        "print(\"Slope (m):\", model.coef_)\n",
        "print(\"Intercept (c):\", model.intercept_)\n",
        "\n",
        "# Plotting\n",
        "plt.scatter(X_test, y_test, color=\"blue\", label=\"Actual\")\n",
        "plt.plot(X_test, y_pred, color=\"red\", label=\"Regression Line\")\n",
        "plt.xlabel(\"Message Length (characters)\")\n",
        "plt.ylabel(\"Spam (1) / Ham (0)\")\n",
        "plt.title(\"Simple Linear Regression: Message Length vs Spam/Ham\")\n",
        "plt.legend()\n",
        "plt.show()\n"
      ],
      "metadata": {
        "colab": {
          "base_uri": "https://localhost:8080/",
          "height": 507
        },
        "id": "rOoTrDSYqoVA",
        "outputId": "f2fbc07c-ba3b-4660-c956-fb2108958205"
      },
      "execution_count": 3,
      "outputs": [
        {
          "output_type": "stream",
          "name": "stdout",
          "text": [
            "Slope (m): [0.00238139]\n",
            "Intercept (c): -0.05603913367001501\n"
          ]
        },
        {
          "output_type": "display_data",
          "data": {
            "text/plain": [
              "<Figure size 640x480 with 1 Axes>"
            ],
            "image/png": "[encoded data removed]"
          },
          "metadata": {}
        }
      ]
    },
    {
      "cell_type": "code",
      "source": [
        "# T3: Cross Validation on spam dataset\n",
        "import pandas as pd\n",
        "from sklearn.model_selection import KFold, cross_val_score\n",
        "from sklearn.tree import DecisionTreeClassifier\n",
        "from sklearn.linear_model import LogisticRegression\n",
        "from sklearn.feature_extraction.text import TfidfVectorizer\n",
        "\n",
        "# Load dataset\n",
        "data = pd.read_csv(\"spam.csv\", encoding=\"latin1\")\n",
        "data = data[[\"v1\", \"v2\"]]\n",
        "data = data.rename(columns={\"v1\": \"label\", \"v2\": \"message\"})\n",
        "\n",
        "# Convert labels (spam/ham) to 0/1\n",
        "data[\"label_encoded\"] = data[\"label\"].map({\"ham\": 0, \"spam\": 1})\n",
        "\n",
        "# Feature Engineering: Convert text to TF-IDF vectors\n",
        "vectorizer = TfidfVectorizer(stop_words=\"english\", max_features=3000)\n",
        "X = vectorizer.fit_transform(data[\"message\"])\n",
        "y = data[\"label_encoded\"]\n",
        "\n",
        "# Define classifiers\n",
        "clf1 = DecisionTreeClassifier(random_state=42)\n",
        "clf2 = LogisticRegression(max_iter=1000)\n",
        "\n",
        "# Define K-Fold (10 splits)\n",
        "k_folds = KFold(n_splits=10, shuffle=True, random_state=42)\n",
        "\n",
        "# Cross Validation\n",
        "scores1 = cross_val_score(clf1, X, y, cv=k_folds)\n",
        "scores2 = cross_val_score(clf2, X, y, cv=k_folds)\n",
        "\n",
        "# Print results\n",
        "print(\"Cross Validation Scores (Decision Tree):\", scores1)\n",
        "print(\"Cross Validation Scores (Logistic Regression):\", scores2)\n",
        "print(\"Average CV Score (Decision Tree):\", scores1.mean())\n",
        "print(\"Average CV Score (Logistic Regression):\", scores2.mean())\n",
        "print(\"Number of CV Scores used in Average (Decision Tree):\", len(scores1))\n",
        "print(\"Number of CV Scores used in Average (Logistic Regression):\", len(scores2))\n"
      ],
      "metadata": {
        "colab": {
          "base_uri": "https://localhost:8080/"
        },
        "id": "lu8o3KJMq7Gy",
        "outputId": "47951933-d785-49fa-effb-4b694a1b1907"
      },
      "execution_count": 4,
      "outputs": [
        {
          "output_type": "stream",
          "name": "stdout",
          "text": [
            "Cross Validation Scores (Decision Tree): [0.96953405 0.9516129  0.97307002 0.96229803 0.97307002 0.98204668\n",
            " 0.96947935 0.96409336 0.97307002 0.95691203]\n",
            "Cross Validation Scores (Logistic Regression): [0.97311828 0.94623656 0.97486535 0.97307002 0.97845601 0.96947935\n",
            " 0.96947935 0.97666068 0.96229803 0.96947935]\n",
            "Average CV Score (Decision Tree): 0.9675186450712021\n",
            "Average CV Score (Logistic Regression): 0.9693142989517577\n",
            "Number of CV Scores used in Average (Decision Tree): 10\n",
            "Number of CV Scores used in Average (Logistic Regression): 10\n"
          ]
        }
      ]
    },
    {
      "cell_type": "code",
      "source": [
        "# T4: Performance Metrics on spam dataset\n",
        "import pandas as pd\n",
        "from sklearn.model_selection import train_test_split\n",
        "from sklearn.tree import DecisionTreeClassifier\n",
        "from sklearn.linear_model import LinearRegression\n",
        "from sklearn.feature_extraction.text import TfidfVectorizer\n",
        "from sklearn.metrics import accuracy_score, mean_squared_error, r2_score\n",
        "\n",
        "# Load dataset\n",
        "data = pd.read_csv(\"spam.csv\", encoding=\"latin1\")\n",
        "data = data[[\"v1\", \"v2\"]]\n",
        "data = data.rename(columns={\"v1\": \"label\", \"v2\": \"message\"})\n",
        "\n",
        "# Convert labels: ham -> 0, spam -> 1\n",
        "data[\"label_encoded\"] = data[\"label\"].map({\"ham\": 0, \"spam\": 1})\n",
        "\n",
        "# Convert text to numerical features (TF-IDF)\n",
        "vectorizer = TfidfVectorizer(stop_words=\"english\", max_features=3000)\n",
        "X = vectorizer.fit_transform(data[\"message\"])\n",
        "y = data[\"label_encoded\"]\n",
        "\n",
        "# Train-test split (80-20)\n",
        "X_train, X_test, y_train, y_test = train_test_split(\n",
        "    X, y, test_size=0.2, random_state=42, stratify=y\n",
        ")\n",
        "\n",
        "# 1. Decision Tree Classifier\n",
        "dt = DecisionTreeClassifier(criterion=\"entropy\", random_state=42)\n",
        "dt.fit(X_train, y_train)\n",
        "y_dt_pred = dt.predict(X_test)\n",
        "\n",
        "accuracy_dt = accuracy_score(y_test, y_dt_pred)\n",
        "print(\"Decision Tree Accuracy:\", accuracy_dt)\n",
        "\n",
        "# 2. Linear Regression (demo only, better use Logistic Regression for classification)\n",
        "lrr = LinearRegression()\n",
        "lrr.fit(X_train, y_train)\n",
        "y_lrr_pred = lrr.predict(X_test)\n",
        "\n",
        "mse = mean_squared_error(y_test, y_lrr_pred)\n",
        "r2 = r2_score(y_test, y_lrr_pred)\n",
        "\n",
        "print(\"Linear Regression MSE:\", mse)\n",
        "print(\"Linear Regression R²:\", r2)\n"
      ],
      "metadata": {
        "colab": {
          "base_uri": "https://localhost:8080/"
        },
        "id": "vLcCFAmVrJJB",
        "outputId": "7b108c9d-5706-4aa2-d62a-3146f2e54890"
      },
      "execution_count": 5,
      "outputs": [
        {
          "output_type": "stream",
          "name": "stdout",
          "text": [
            "Decision Tree Accuracy: 0.9605381165919282\n",
            "Linear Regression MSE: 0.26693191508877023\n",
            "Linear Regression R²: -1.3056152829507717\n"
          ]
        }
      ]
    },
    {
      "cell_type": "code",
      "source": [
        "# T5: Multiple Linear Regression on spam dataset\n",
        "import pandas as pd\n",
        "from sklearn.model_selection import train_test_split\n",
        "from sklearn.linear_model import LinearRegression\n",
        "from sklearn.feature_extraction.text import TfidfVectorizer\n",
        "from sklearn.metrics import mean_squared_error, r2_score\n",
        "\n",
        "# Load dataset\n",
        "data = pd.read_csv(\"spam.csv\", encoding=\"latin1\")\n",
        "data = data[[\"v1\", \"v2\"]]\n",
        "data = data.rename(columns={\"v1\": \"label\", \"v2\": \"message\"})\n",
        "\n",
        "# Convert labels: ham -> 0, spam -> 1\n",
        "data[\"label_encoded\"] = data[\"label\"].map({\"ham\": 0, \"spam\": 1})\n",
        "\n",
        "# Convert text to numerical features using TF-IDF (multiple predictors)\n",
        "vectorizer = TfidfVectorizer(stop_words=\"english\", max_features=3000)\n",
        "X = vectorizer.fit_transform(data[\"message\"]).toarray()  # multiple independent variables\n",
        "y = data[\"label_encoded\"]\n",
        "\n",
        "# Train-test split (80-20)\n",
        "X_train, X_test, y_train, y_test = train_test_split(\n",
        "    X, y, test_size=0.2, random_state=42, stratify=y\n",
        ")\n",
        "\n",
        "# Multiple Linear Regression model\n",
        "lrr = LinearRegression()\n",
        "lrr.fit(X_train, y_train)\n",
        "y_lrr_pred = lrr.predict(X_test)\n",
        "\n",
        "# Performance metrics\n",
        "mse = mean_squared_error(y_test, y_lrr_pred)\n",
        "r2 = r2_score(y_test, y_lrr_pred)\n",
        "\n",
        "print(\"Multiple Linear Regression MSE:\", mse)\n",
        "print(\"Multiple Linear Regression R²:\", r2)\n"
      ],
      "metadata": {
        "colab": {
          "base_uri": "https://localhost:8080/"
        },
        "id": "byPMbxlvrO8e",
        "outputId": "299fba14-011c-485a-dafa-807db95d74bc"
      },
      "execution_count": 6,
      "outputs": [
        {
          "output_type": "stream",
          "name": "stdout",
          "text": [
            "Multiple Linear Regression MSE: 0.267173908950445\n",
            "Multiple Linear Regression R²: -1.3077054966506663\n"
          ]
        }
      ]
    },
    {
      "cell_type": "code",
      "source": [
        "# T6: Logistic Regression on spam dataset\n",
        "import pandas as pd\n",
        "from sklearn.model_selection import train_test_split\n",
        "from sklearn.linear_model import LogisticRegression\n",
        "from sklearn.feature_extraction.text import TfidfVectorizer\n",
        "from sklearn.metrics import accuracy_score\n",
        "\n",
        "# Load dataset\n",
        "data = pd.read_csv(\"spam.csv\", encoding=\"latin1\")\n",
        "data = data[[\"v1\", \"v2\"]]\n",
        "data = data.rename(columns={\"v1\": \"label\", \"v2\": \"message\"})\n",
        "\n",
        "# Encode labels: ham -> 0, spam -> 1\n",
        "data[\"label_encoded\"] = data[\"label\"].map({\"ham\": 0, \"spam\": 1})\n",
        "\n",
        "# Convert text to TF-IDF features\n",
        "vectorizer = TfidfVectorizer(stop_words=\"english\", max_features=3000)\n",
        "X = vectorizer.fit_transform(data[\"message\"])\n",
        "y = data[\"label_encoded\"]\n",
        "\n",
        "# Train-test split (80% train, 20% test)\n",
        "X_train, X_test, y_train, y_test = train_test_split(\n",
        "    X, y, test_size=0.2, random_state=2, stratify=y\n",
        ")\n",
        "\n",
        "# Logistic Regression model\n",
        "lr = LogisticRegression(max_iter=1000)\n",
        "lr.fit(X_train, y_train)\n",
        "y_lr_pred = lr.predict(X_test)\n",
        "\n",
        "# Print shapes\n",
        "print(\"y_test shape:\", y_test.shape)\n",
        "print(\"y_lr_pred shape:\", y_lr_pred.shape)\n",
        "\n",
        "# Accuracy\n",
        "accuracy_lr = accuracy_score(y_test, y_lr_pred)\n",
        "print(\"Logistic Regression Accuracy:\", accuracy_lr)\n"
      ],
      "metadata": {
        "colab": {
          "base_uri": "https://localhost:8080/"
        },
        "id": "2xhLxr3prfTV",
        "outputId": "94267adb-26e6-40ac-bd08-50510a86fed4"
      },
      "execution_count": 7,
      "outputs": [
        {
          "output_type": "stream",
          "name": "stdout",
          "text": [
            "y_test shape: (1115,)\n",
            "y_lr_pred shape: (1115,)\n",
            "Logistic Regression Accuracy: 0.9641255605381166\n"
          ]
        }
      ]
    }
  ]
}